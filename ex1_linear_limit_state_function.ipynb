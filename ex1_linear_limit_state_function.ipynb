{
 "cells": [
  {
   "cell_type": "code",
   "execution_count": 1,
   "metadata": {},
   "outputs": [],
   "source": [
    "import sys\n",
    "from pathlib import Path\n",
    "sys.path.append(Path.cwd().joinpath('src'))"
   ]
  },
  {
   "cell_type": "code",
   "execution_count": 2,
   "metadata": {},
   "outputs": [],
   "source": [
    "import numpy as np\n",
    "from rips import *\n",
    "from rips.utils import FeynmanKac, Particle"
   ]
  },
  {
   "cell_type": "code",
   "execution_count": null,
   "metadata": {},
   "outputs": [],
   "source": []
  },
  {
   "attachments": {},
   "cell_type": "markdown",
   "metadata": {},
   "source": [
    "# Setting model"
   ]
  },
  {
   "cell_type": "code",
   "execution_count": 48,
   "metadata": {},
   "outputs": [],
   "source": [
    "# Define linear limit state function\n",
    "class LinearLSF(FeynmanKac, StandardGaussian):\n",
    "    def __init__(self, r=1, n=10, **kwargs):\n",
    "        self.r = r\n",
    "        self.n = n\n",
    "        super().__init__(**kwargs)\n",
    "    \n",
    "    def score_function(self, particle: Particle) -> float:\n",
    "        particle.response = particle.path.sum() / np.sqrt(self.n)\n",
    "        return particle.response / self.r\n",
    "    \n",
    "    @property\n",
    "    def num_variables(self) -> int:\n",
    "        return self.n\n",
    "\n",
    "model = LinearLSF(r=2, n=1000)"
   ]
  },
  {
   "cell_type": "code",
   "execution_count": 52,
   "metadata": {},
   "outputs": [],
   "source": [
    "# Sample a particle\n",
    "particle = model.sample_particle()"
   ]
  },
  {
   "cell_type": "code",
   "execution_count": 53,
   "metadata": {},
   "outputs": [
    {
     "data": {
      "text/plain": [
       "0.10019034144427179"
      ]
     },
     "execution_count": 53,
     "metadata": {},
     "output_type": "execute_result"
    }
   ],
   "source": [
    "# This is the score function evaluated on a random vector\n",
    "particle.score  # Greater than one means failure"
   ]
  },
  {
   "attachments": {},
   "cell_type": "markdown",
   "metadata": {},
   "source": [
    "# Probabilistic inference"
   ]
  },
  {
   "cell_type": "code",
   "execution_count": 62,
   "metadata": {},
   "outputs": [
    {
     "name": "stdout",
     "output_type": "stream",
     "text": [
      "Adaptive levels...\n",
      "[-inf, 0.42164209064034186]\n",
      "[-inf, 0.42164209064034186, 0.8781845826247363]\n",
      "[-inf, 0.42164209064034186, 0.8781845826247363, 1.2041776503302515]\n",
      "[-inf, 0.42164209064034186, 0.8781845826247363, 1]\n",
      "Fixed levels...\n",
      "done\n"
     ]
    },
    {
     "data": {
      "text/plain": [
       "{'cpu_time_smc': 3.2913532079999186,\n",
       " 'ng_smc': 170004,\n",
       " 'cpu_time_gs': 3.0766673330001595,\n",
       " 'p_bar': 0.022448000000000003,\n",
       " 'ng_gs': 50130,\n",
       " 'k': 3,\n",
       " 'var': 0.0070449517911791186,\n",
       " 'std': 0.08393421108927586}"
      ]
     },
     "execution_count": 62,
     "metadata": {},
     "output_type": "execute_result"
    }
   ],
   "source": [
    "# Number of samples\n",
    "model.num_of_particles = 10000\n",
    "# Markov Chain Monte Carlo methods\n",
    "kernels = [\n",
    "    PCN(),\n",
    "    MMH()\n",
    "]\n",
    "# Sample-based Monte Carlo integration\n",
    "sample = ComboUQ(model, kernels)\n",
    "sample.summary_results()\n"
   ]
  },
  {
   "attachments": {},
   "cell_type": "markdown",
   "metadata": {},
   "source": [
    "# Compare against exact solution"
   ]
  },
  {
   "cell_type": "code",
   "execution_count": 63,
   "metadata": {},
   "outputs": [
    {
     "data": {
      "text/plain": [
       "0.022776"
      ]
     },
     "execution_count": 63,
     "metadata": {},
     "output_type": "execute_result"
    }
   ],
   "source": [
    "from scipy.stats import norm\n",
    "p_exact = norm.cdf(-2)\n",
    "sample.p_smc"
   ]
  },
  {
   "cell_type": "code",
   "execution_count": 67,
   "metadata": {},
   "outputs": [
    {
     "ename": "NameError",
     "evalue": "name 'numpy' is not defined",
     "output_type": "error",
     "traceback": [
      "\u001b[0;31m---------------------------------------------------------------------------\u001b[0m",
      "\u001b[0;31mNameError\u001b[0m                                 Traceback (most recent call last)",
      "\u001b[1;32m/Users/rogerparedes/Projects/pims/limit_state_function.ipynb Cell 12\u001b[0m in \u001b[0;36m1\n\u001b[0;32m----> <a href='vscode-notebook-cell:/Users/rogerparedes/Projects/pims/limit_state_function.ipynb#X12sZmlsZQ%3D%3D?line=0'>1</a>\u001b[0m \u001b[39mtype\u001b[39m(sample\u001b[39m.\u001b[39m\u001b[39m__dict__\u001b[39m[\u001b[39m'\u001b[39m\u001b[39mp_smc\u001b[39m\u001b[39m'\u001b[39m]) \u001b[39min\u001b[39;00m [numpy\u001b[39m.\u001b[39mfloat64]\n",
      "\u001b[0;31mNameError\u001b[0m: name 'numpy' is not defined"
     ]
    }
   ],
   "source": [
    "type(sample.__dict__['p_smc']) in [numpy.float64]"
   ]
  },
  {
   "cell_type": "code",
   "execution_count": null,
   "metadata": {},
   "outputs": [],
   "source": []
  }
 ],
 "metadata": {
  "kernelspec": {
   "display_name": "robspy",
   "language": "python",
   "name": "python3"
  },
  "language_info": {
   "codemirror_mode": {
    "name": "ipython",
    "version": 3
   },
   "file_extension": ".py",
   "mimetype": "text/x-python",
   "name": "python",
   "nbconvert_exporter": "python",
   "pygments_lexer": "ipython3",
   "version": "3.9.6"
  },
  "orig_nbformat": 4
 },
 "nbformat": 4,
 "nbformat_minor": 2
}
